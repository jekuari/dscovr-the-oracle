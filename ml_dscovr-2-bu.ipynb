{
 "cells": [
  {
   "cell_type": "code",
   "execution_count": 250,
   "id": "6f6c19cf-0afd-41d6-87da-8b94dcbb09cf",
   "metadata": {},
   "outputs": [],
   "source": [
    "import pandas as pd"
   ]
  },
  {
   "cell_type": "code",
   "execution_count": 251,
   "id": "301d82d0-6ca3-400a-9102-8024c4b7f8e3",
   "metadata": {
    "tags": []
   },
   "outputs": [],
   "source": [
    "import numpy as np"
   ]
  },
  {
   "cell_type": "code",
   "execution_count": 252,
   "id": "651e41db-53fb-4e51-821c-12e0ea136b16",
   "metadata": {},
   "outputs": [],
   "source": [
    "import matplotlib as plt"
   ]
  },
  {
   "cell_type": "code",
   "execution_count": 253,
   "id": "8fcec9ac-0f68-48e7-a241-d786102a8d06",
   "metadata": {
    "tags": []
   },
   "outputs": [],
   "source": [
    "import csv as csv"
   ]
  },
  {
   "cell_type": "code",
   "execution_count": 254,
   "id": "5fac9b2e-ed41-41bf-a908-4ce1dbcbbd4f",
   "metadata": {
    "tags": []
   },
   "outputs": [],
   "source": [
    "from sklearn.linear_model import LinearRegression"
   ]
  },
  {
   "cell_type": "code",
   "execution_count": 255,
   "id": "b503e1ba-2c24-485c-94ba-ebe60c1e8694",
   "metadata": {
    "tags": []
   },
   "outputs": [],
   "source": [
    "from sklearn.model_selection import train_test_split"
   ]
  },
  {
   "cell_type": "code",
   "execution_count": 256,
   "id": "b01b1aeb-fa67-45d4-8f3b-d75af5531ed0",
   "metadata": {
    "tags": []
   },
   "outputs": [],
   "source": [
    "import matplotlib.pyplot as plt"
   ]
  },
  {
   "cell_type": "code",
   "execution_count": 258,
   "id": "e90f8444-5b2f-4a25-92b7-fe8400315331",
   "metadata": {
    "tags": []
   },
   "outputs": [],
   "source": [
    "dst_labels = pd.read_csv(\"/home/rfere/Documents/Projects/spaceapps/datasets/dst_labels.csv\")"
   ]
  },
  {
   "cell_type": "code",
   "execution_count": 260,
   "id": "d21bb1ca-a856-44a4-8fe7-aaae3df68ef1",
   "metadata": {
    "tags": []
   },
   "outputs": [],
   "source": [
    "solar_wind = pd.read_csv(\"/home/rfere/Documents/Projects/spaceapps/datasets/solar_wind.csv\")"
   ]
  },
  {
   "cell_type": "code",
   "execution_count": 261,
   "id": "e870c717-76a5-4a72-ac92-8ef3a775a624",
   "metadata": {
    "tags": []
   },
   "outputs": [],
   "source": [
    "sun_spots = pd.read_csv(\"/home/rfere/Documents/Projects/spaceapps/datasets/sunspots.csv\")"
   ]
  },
  {
   "cell_type": "code",
   "execution_count": 262,
   "id": "a1495c77-c2ff-45eb-85e0-670c61de1863",
   "metadata": {
    "tags": []
   },
   "outputs": [],
   "source": [
    "satellite_positions = pd.read_csv(\"/home/rfere/Documents/Projects/spaceapps/datasets/satellite_positions.csv\")"
   ]
  },
  {
   "cell_type": "code",
   "execution_count": 263,
   "id": "aad44670-9536-4a46-a56d-acb68533c163",
   "metadata": {
    "tags": []
   },
   "outputs": [],
   "source": [
    "mixed_table = pd.merge(dst_labels, solar_wind, on=[\"timedelta\", \"period\"])"
   ]
  },
  {
   "cell_type": "code",
   "execution_count": 264,
   "id": "e06b7da5-72ce-4584-864a-821d0385a932",
   "metadata": {
    "tags": []
   },
   "outputs": [],
   "source": [
    "clean_mixed_table = mixed_table.dropna(subset=[\"bx_gse\", \"phi_gsm\", \"density\", \"speed\", \"temperature\", \"source\"])"
   ]
  },
  {
   "cell_type": "code",
   "execution_count": 265,
   "id": "d0a56721-a752-491b-8f09-08519e667182",
   "metadata": {
    "tags": []
   },
   "outputs": [],
   "source": [
    "clean_mixed_table = pd.merge(clean_mixed_table, sun_spots, on=[\"timedelta\", \"period\"], how=\"left\")"
   ]
  },
  {
   "cell_type": "markdown",
   "id": "8db087b9-a5e0-44b6-86ac-8eb7acf68c03",
   "metadata": {},
   "source": []
  },
  {
   "cell_type": "code",
   "execution_count": 266,
   "id": "2635857e-15e3-4480-9f3c-4d5b2ef5911c",
   "metadata": {
    "tags": []
   },
   "outputs": [],
   "source": [
    "min_sun_spots = sun_spots[\"smoothed_ssn\"].mean() / 2\n",
    "clean_mixed_table[\"smoothed_ssn\"] = clean_mixed_table[\"smoothed_ssn\"].replace(np.nan, min_sun_spots)"
   ]
  },
  {
   "cell_type": "markdown",
   "id": "a2bbf3b8-0e27-4a42-8732-aa0f848e27ae",
   "metadata": {},
   "source": [
    "# En está tabla tomamos los datos iguales a cero y los remplazamos por la media, puesto que opinamos que estos datos pueden ser resultado de la mala sensibilidad del sensor debido al prolongado tiempo de vida dado al discovery."
   ]
  },
  {
   "cell_type": "code",
   "execution_count": 267,
   "id": "0b25059d-f6bb-4202-8548-5af4102424fb",
   "metadata": {
    "tags": []
   },
   "outputs": [],
   "source": [
    "clean_mixed_table[\"rounded_timedelta\"] = clean_mixed_table[\"timedelta\"].apply(lambda row_val: pd.to_timedelta(row_val).round(\"d\"))"
   ]
  },
  {
   "cell_type": "markdown",
   "id": "f534e92b-404c-420f-b75f-e1af42206f66",
   "metadata": {},
   "source": [
    "# En está tabla redondeamos los lapsos de horas a días, para que la columna en común (la fecha) fuera combinada con la tabla \"maestra\""
   ]
  },
  {
   "cell_type": "code",
   "execution_count": 268,
   "id": "51cb8fe3-606d-470e-bae2-6507354354a9",
   "metadata": {
    "tags": []
   },
   "outputs": [],
   "source": [
    "satellite_positions[\"rounded_timedelta\"] = satellite_positions[\"timedelta\"].apply(lambda row_val: pd.to_timedelta(row_val).round(\"d\"))"
   ]
  },
  {
   "cell_type": "code",
   "execution_count": 269,
   "id": "9df9015d-c630-4e40-b91e-0b70b39c3610",
   "metadata": {
    "tags": []
   },
   "outputs": [],
   "source": [
    "satellite_positions = satellite_positions.drop([\"timedelta\"], axis=1)"
   ]
  },
  {
   "cell_type": "markdown",
   "id": "94a806cc-34b7-4dd7-97b7-c3c5f781a4f8",
   "metadata": {},
   "source": [
    "# Se elimino la tabla de timedelta para evitar mezclas con la tabla maestra "
   ]
  },
  {
   "cell_type": "code",
   "execution_count": 270,
   "id": "3e7cc43a-83fa-4ccb-9049-48507997c10d",
   "metadata": {
    "tags": []
   },
   "outputs": [],
   "source": [
    "last_df = pd.merge(clean_mixed_table, satellite_positions, on=[\"period\", \"rounded_timedelta\"], how=\"left\")"
   ]
  },
  {
   "cell_type": "code",
   "execution_count": null,
   "id": "63cd0bba-00ae-4a5f-9a77-e10b12097f31",
   "metadata": {},
   "outputs": [],
   "source": []
  },
  {
   "cell_type": "code",
   "execution_count": 271,
   "id": "2f1ac4ae-8cd0-4706-9b46-c1bda59f72a6",
   "metadata": {
    "tags": []
   },
   "outputs": [],
   "source": [
    "last_df.dropna(inplace=True)"
   ]
  },
  {
   "cell_type": "code",
   "execution_count": 272,
   "id": "b8783988-8065-4410-9365-8ffa5c925f89",
   "metadata": {
    "tags": []
   },
   "outputs": [
    {
     "name": "stdout",
     "output_type": "stream",
     "text": [
      "<class 'pandas.core.frame.DataFrame'>\n",
      "Index: 24176 entries, 49180 to 73499\n",
      "Data columns (total 26 columns):\n",
      " #   Column             Non-Null Count  Dtype          \n",
      "---  ------             --------------  -----          \n",
      " 0   period             24176 non-null  object         \n",
      " 1   timedelta          24176 non-null  object         \n",
      " 2   dst                24176 non-null  int64          \n",
      " 3   bx_gse             24176 non-null  float64        \n",
      " 4   by_gse             24176 non-null  float64        \n",
      " 5   bz_gse             24176 non-null  float64        \n",
      " 6   theta_gse          24176 non-null  float64        \n",
      " 7   phi_gse            24176 non-null  float64        \n",
      " 8   bx_gsm             24176 non-null  float64        \n",
      " 9   by_gsm             24176 non-null  float64        \n",
      " 10  bz_gsm             24176 non-null  float64        \n",
      " 11  theta_gsm          24176 non-null  float64        \n",
      " 12  phi_gsm            24176 non-null  float64        \n",
      " 13  bt                 24176 non-null  float64        \n",
      " 14  density            24176 non-null  float64        \n",
      " 15  speed              24176 non-null  float64        \n",
      " 16  temperature        24176 non-null  float64        \n",
      " 17  source             24176 non-null  object         \n",
      " 18  smoothed_ssn       24176 non-null  float64        \n",
      " 19  rounded_timedelta  24176 non-null  timedelta64[ns]\n",
      " 20  gse_x_ace          24176 non-null  float64        \n",
      " 21  gse_y_ace          24176 non-null  float64        \n",
      " 22  gse_z_ace          24176 non-null  float64        \n",
      " 23  gse_x_dscovr       24176 non-null  float64        \n",
      " 24  gse_y_dscovr       24176 non-null  float64        \n",
      " 25  gse_z_dscovr       24176 non-null  float64        \n",
      "dtypes: float64(21), int64(1), object(3), timedelta64[ns](1)\n",
      "memory usage: 5.0+ MB\n",
      "None\n"
     ]
    }
   ],
   "source": [
    "print(last_df.info())\n",
    "# b = campo magnetico (vector de campo)"
   ]
  },
  {
   "cell_type": "markdown",
   "id": "d0090d4f-95f4-4199-8ba2-d41f2367d5c5",
   "metadata": {},
   "source": [
    "1. `proton_vx_gse`: Velocidad de los protones en la dirección X en el sistema de referencia GSE (Geocéntrico Solar Eclíptico).\n",
    "\n",
    "2. `proton_vy_gse`: Velocidad de los protones en la dirección Y en el sistema de referencia GSE.\n",
    "\n",
    "3. `proton_vz_gse`: Velocidad de los protones en la dirección Z en el sistema de referencia GSE.\n",
    "\n",
    "4. `proton_vx_gsm`: Velocidad de los protones en la dirección X en el sistema de referencia GSM (Geocéntrico Solar Magnetosférico).\n",
    "\n",
    "5. `proton_vy_gsm`: Velocidad de los protones en la dirección Y en el sistema de referencia GSM.\n",
    "\n",
    "6. `proton_vz_gsm`: Velocidad de los protones en la dirección Z en el sistema de referencia GSM.\n",
    "\n",
    "7. `proton_speed`: Velocidad total de los protones.\n",
    "\n",
    "8. `proton_density`: Densidad de protones en el entorno espacial.\n",
    "\n",
    "9. `proton_temperature`: Temperatura de los protones en el entorno espacial.\n",
    "\n",
    "10. `bt`: Componente total del campo magnético en el espacio.\n",
    "\n",
    "11. `bx_gse`: Componente X del campo magnético en el sistema de referencia GSE.\n",
    "\n",
    "12. `by_gse`: Componente Y del campo magnético en el sistema de referencia GSE.\n",
    "\n",
    "13. `bz_gse`: Componente Z del campo magnético en el sistema de referencia GSE."
   ]
  },
  {
   "cell_type": "code",
   "execution_count": 273,
   "id": "7184510e-ad6f-49b3-a7e8-796f6a0961a8",
   "metadata": {},
   "outputs": [],
   "source": [
    "x = last_df[['bx_gse', 'by_gse', 'bz_gse', 'bx_gsm', 'by_gsm', 'bz_gsm', 'bt', 'density', 'speed', 'temperature', 'smoothed_ssn', 'gse_x_dscovr', 'gse_y_dscovr', 'gse_z_dscovr']]\n",
    "y = last_df[['dst']]"
   ]
  },
  {
   "cell_type": "code",
   "execution_count": 274,
   "id": "87bba7ae-0ae4-4583-8a2c-8a0f72e4680a",
   "metadata": {
    "tags": []
   },
   "outputs": [],
   "source": [
    "x_train, x_test, y_train, y_test = train_test_split(x, y, train_size = 0.8, test_size = 0.2, random_state = 6)"
   ]
  },
  {
   "cell_type": "code",
   "execution_count": 275,
   "id": "9aa0d3fe-4280-4eb4-a9da-abe5d33feadf",
   "metadata": {
    "tags": []
   },
   "outputs": [],
   "source": [
    "mlr = LinearRegression()"
   ]
  },
  {
   "cell_type": "code",
   "execution_count": 276,
   "id": "9f661b1f-63e6-4774-bc3a-9728dc06fe4c",
   "metadata": {
    "tags": []
   },
   "outputs": [
    {
     "data": {
      "text/html": [
       "<style>#sk-container-id-2 {color: black;}#sk-container-id-2 pre{padding: 0;}#sk-container-id-2 div.sk-toggleable {background-color: white;}#sk-container-id-2 label.sk-toggleable__label {cursor: pointer;display: block;width: 100%;margin-bottom: 0;padding: 0.3em;box-sizing: border-box;text-align: center;}#sk-container-id-2 label.sk-toggleable__label-arrow:before {content: \"▸\";float: left;margin-right: 0.25em;color: #696969;}#sk-container-id-2 label.sk-toggleable__label-arrow:hover:before {color: black;}#sk-container-id-2 div.sk-estimator:hover label.sk-toggleable__label-arrow:before {color: black;}#sk-container-id-2 div.sk-toggleable__content {max-height: 0;max-width: 0;overflow: hidden;text-align: left;background-color: #f0f8ff;}#sk-container-id-2 div.sk-toggleable__content pre {margin: 0.2em;color: black;border-radius: 0.25em;background-color: #f0f8ff;}#sk-container-id-2 input.sk-toggleable__control:checked~div.sk-toggleable__content {max-height: 200px;max-width: 100%;overflow: auto;}#sk-container-id-2 input.sk-toggleable__control:checked~label.sk-toggleable__label-arrow:before {content: \"▾\";}#sk-container-id-2 div.sk-estimator input.sk-toggleable__control:checked~label.sk-toggleable__label {background-color: #d4ebff;}#sk-container-id-2 div.sk-label input.sk-toggleable__control:checked~label.sk-toggleable__label {background-color: #d4ebff;}#sk-container-id-2 input.sk-hidden--visually {border: 0;clip: rect(1px 1px 1px 1px);clip: rect(1px, 1px, 1px, 1px);height: 1px;margin: -1px;overflow: hidden;padding: 0;position: absolute;width: 1px;}#sk-container-id-2 div.sk-estimator {font-family: monospace;background-color: #f0f8ff;border: 1px dotted black;border-radius: 0.25em;box-sizing: border-box;margin-bottom: 0.5em;}#sk-container-id-2 div.sk-estimator:hover {background-color: #d4ebff;}#sk-container-id-2 div.sk-parallel-item::after {content: \"\";width: 100%;border-bottom: 1px solid gray;flex-grow: 1;}#sk-container-id-2 div.sk-label:hover label.sk-toggleable__label {background-color: #d4ebff;}#sk-container-id-2 div.sk-serial::before {content: \"\";position: absolute;border-left: 1px solid gray;box-sizing: border-box;top: 0;bottom: 0;left: 50%;z-index: 0;}#sk-container-id-2 div.sk-serial {display: flex;flex-direction: column;align-items: center;background-color: white;padding-right: 0.2em;padding-left: 0.2em;position: relative;}#sk-container-id-2 div.sk-item {position: relative;z-index: 1;}#sk-container-id-2 div.sk-parallel {display: flex;align-items: stretch;justify-content: center;background-color: white;position: relative;}#sk-container-id-2 div.sk-item::before, #sk-container-id-2 div.sk-parallel-item::before {content: \"\";position: absolute;border-left: 1px solid gray;box-sizing: border-box;top: 0;bottom: 0;left: 50%;z-index: -1;}#sk-container-id-2 div.sk-parallel-item {display: flex;flex-direction: column;z-index: 1;position: relative;background-color: white;}#sk-container-id-2 div.sk-parallel-item:first-child::after {align-self: flex-end;width: 50%;}#sk-container-id-2 div.sk-parallel-item:last-child::after {align-self: flex-start;width: 50%;}#sk-container-id-2 div.sk-parallel-item:only-child::after {width: 0;}#sk-container-id-2 div.sk-dashed-wrapped {border: 1px dashed gray;margin: 0 0.4em 0.5em 0.4em;box-sizing: border-box;padding-bottom: 0.4em;background-color: white;}#sk-container-id-2 div.sk-label label {font-family: monospace;font-weight: bold;display: inline-block;line-height: 1.2em;}#sk-container-id-2 div.sk-label-container {text-align: center;}#sk-container-id-2 div.sk-container {/* jupyter's `normalize.less` sets `[hidden] { display: none; }` but bootstrap.min.css set `[hidden] { display: none !important; }` so we also need the `!important` here to be able to override the default hidden behavior on the sphinx rendered scikit-learn.org. See: https://github.com/scikit-learn/scikit-learn/issues/21755 */display: inline-block !important;position: relative;}#sk-container-id-2 div.sk-text-repr-fallback {display: none;}</style><div id=\"sk-container-id-2\" class=\"sk-top-container\"><div class=\"sk-text-repr-fallback\"><pre>LinearRegression()</pre><b>In a Jupyter environment, please rerun this cell to show the HTML representation or trust the notebook. <br />On GitHub, the HTML representation is unable to render, please try loading this page with nbviewer.org.</b></div><div class=\"sk-container\" hidden><div class=\"sk-item\"><div class=\"sk-estimator sk-toggleable\"><input class=\"sk-toggleable__control sk-hidden--visually\" id=\"sk-estimator-id-2\" type=\"checkbox\" checked><label for=\"sk-estimator-id-2\" class=\"sk-toggleable__label sk-toggleable__label-arrow\">LinearRegression</label><div class=\"sk-toggleable__content\"><pre>LinearRegression()</pre></div></div></div></div></div>"
      ],
      "text/plain": [
       "LinearRegression()"
      ]
     },
     "execution_count": 276,
     "metadata": {},
     "output_type": "execute_result"
    }
   ],
   "source": [
    "mlr.fit(x_train, y_train)"
   ]
  },
  {
   "cell_type": "code",
   "execution_count": 277,
   "id": "7a1dc9a0-5f08-47a5-9c88-f8aa6e918543",
   "metadata": {
    "tags": []
   },
   "outputs": [],
   "source": [
    "y_predict = mlr.predict(x_test)"
   ]
  },
  {
   "cell_type": "code",
   "execution_count": 278,
   "id": "4f40b236-e8b2-4226-b3c5-5e4f41dffa9c",
   "metadata": {
    "tags": []
   },
   "outputs": [
    {
     "data": {
      "image/png": "[encoded data removed]",
      "text/plain": [
       "<Figure size 640x480 with 1 Axes>"
      ]
     },
     "metadata": {},
     "output_type": "display_data"
    }
   ],
   "source": [
    "plt.scatter(y_test, y_predict, alpha=0.4)\n",
    "plt.xlabel(\"Info: $Y_i$\")\n",
    "plt.ylabel(\"Predicted dst: $\\hat{Y}_i$\")\n",
    "plt.title(\"Info vs Predicted DST\")\n",
    "\n",
    "plt.show()"
   ]
  },
  {
   "cell_type": "markdown",
   "id": "5bdf20d0-1e62-4ed4-acd7-3b6f5ba80a22",
   "metadata": {},
   "source": [
    "# Auqí podemos observar más a detalle la correlación de nuestro modelo con respecto a los resultados reales. Debido a los fallos de la Discovery por su extendido periodo de vida, es dificil obtener una relación linear fuerte, sin embargo creemos que los de los resultados, incluso con lo mencionado anteriormente es un resultado positivo."
   ]
  },
  {
   "cell_type": "code",
   "execution_count": 279,
   "id": "196e8c61-850a-493e-b47a-56652ac1b59a",
   "metadata": {
    "tags": []
   },
   "outputs": [
    {
     "name": "stdout",
     "output_type": "stream",
     "text": [
      "[[ 3.45230434e+02 -4.46184818e-01 -1.57468847e+00 -3.45119354e+02\n",
      "   4.66187437e-01  2.36299996e+00 -1.23085571e+00  7.40085215e-01\n",
      "  -6.11346317e-02 -2.41123048e-06 -8.95742786e-02  1.45797989e-05\n",
      "   5.64518834e-06 -3.20637719e-06]]\n"
     ]
    }
   ],
   "source": [
    "print(mlr.coef_)"
   ]
  },
  {
   "cell_type": "code",
   "execution_count": 280,
   "id": "658be215-85b5-4b91-800c-a4e3942fcefc",
   "metadata": {
    "tags": []
   },
   "outputs": [
    {
     "name": "stdout",
     "output_type": "stream",
     "text": [
      "Train score:\n",
      "0.48135302025027304\n",
      "Test score:\n",
      "0.46991509600476733\n"
     ]
    }
   ],
   "source": [
    "print(\"Train score:\")\n",
    "print(mlr.score(x_train, y_train))\n",
    "\n",
    "print(\"Test score:\")\n",
    "print(mlr.score(x_test, y_test))"
   ]
  },
  {
   "cell_type": "markdown",
   "id": "2bbd50ba-458a-43d9-8883-65b1f4642db4",
   "metadata": {},
   "source": [
    "# CORRELACION (-1 al 1) de 0.47."
   ]
  }
 ],
 "metadata": {
  "kernelspec": {
   "display_name": "Python 3 (ipykernel)",
   "language": "python",
   "name": "python3"
  },
  "language_info": {
   "codemirror_mode": {
    "name": "ipython",
    "version": 3
   },
   "file_extension": ".py",
   "mimetype": "text/x-python",
   "name": "python",
   "nbconvert_exporter": "python",
   "pygments_lexer": "ipython3",
   "version": "3.11.5"
  }
 },
 "nbformat": 4,
 "nbformat_minor": 5
}
